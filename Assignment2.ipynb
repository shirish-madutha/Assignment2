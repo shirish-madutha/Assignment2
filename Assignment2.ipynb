{
 "cells": [
  {
   "cell_type": "code",
   "execution_count": 20,
   "id": "166f1719-2b75-4779-b8b6-0d20f57b0925",
   "metadata": {},
   "outputs": [
    {
     "data": {
      "text/plain": [
       "[1, 3, 5, 7, 9, 11, 13, 15, 17, 19, 21, 23, 25]"
      ]
     },
     "execution_count": 20,
     "metadata": {},
     "output_type": "execute_result"
    }
   ],
   "source": [
    "\"\"\" Q1. Which keyword is used to create a function? Create a function to return a list of odd numbers in the\n",
    "range of 1 to 25. \"\"\"\n",
    "\n",
    "# The def keyword is used to create a function\n",
    "def odd():\n",
    "    l=[]\n",
    "    for i in range(1,26):\n",
    "        if i%2!=0:\n",
    "            l.append(i)\n",
    "    return l\n",
    "odd()"
   ]
  },
  {
   "cell_type": "code",
   "execution_count": 36,
   "id": "93929115-b00e-47de-a5ab-cbf0b1469de6",
   "metadata": {},
   "outputs": [
    {
     "name": "stdout",
     "output_type": "stream",
     "text": [
      "104\n",
      "name : shiry\n",
      "id : 19\n"
     ]
    }
   ],
   "source": [
    "\"\"\" Q2. Why *args and **kwargs is used in some functions? Create a function each for *args and **kwargs\n",
    "to demonstrate their use. \"\"\"\n",
    "\n",
    "# *args and **kwargs are used in Python functions to pass a variable number of arguments to the function.\n",
    "\n",
    "# *args :\n",
    "# It allows you to pass any number of arguments to a function as a tuple. \n",
    "# Example :\n",
    "def add(*args):\n",
    "    sum=0\n",
    "    for i in args:\n",
    "        sum+=i\n",
    "    return sum\n",
    "print(add(45,5,48,6))\n",
    "\n",
    "# **kwargs\n",
    "# It allows you to pass any number of arguments to a function as a dictionary. \n",
    "# Example :\n",
    "def student(**kwargs):\n",
    "    for i,j in kwargs.items():\n",
    "        print(f\"{i} : {j}\")\n",
    "student(name=\"shiry\",id=19)"
   ]
  },
  {
   "cell_type": "code",
   "execution_count": 42,
   "id": "c539218c-dfa4-4ea4-a27a-9a5af99809ab",
   "metadata": {},
   "outputs": [
    {
     "name": "stdout",
     "output_type": "stream",
     "text": [
      "2\n",
      "4\n",
      "6\n",
      "8\n",
      "10\n"
     ]
    }
   ],
   "source": [
    "\"\"\" Q3. What is an iterator in python? Name the method used to initialise the iterator object and the method\n",
    "used for iteration. Use these methods to print the first five elements of the given list [2, 4, 6, 8, 10, 12, 14,\n",
    "16, 18, 20]. \"\"\"\n",
    "\n",
    "# Answer\n",
    "\"\"\" In Python, an iterator is an object that allows you to traverse a sequence of values one at a time. It implements two methods, __iter__() and __next__().\n",
    "The __iter__() method initializes the iterator object and returns itself. \n",
    "The __next__() method retrieves the next value from the iterator. When there are no more values to retrieve, it raises a StopIteration exception. \"\"\"\n",
    "\n",
    "# Example :\n",
    "l=[2, 4, 6, 8, 10, 12, 14,16, 18, 20]\n",
    "iteration=iter(l)\n",
    "for i in range(5):\n",
    "    print(next(iteration))"
   ]
  },
  {
   "cell_type": "code",
   "execution_count": 52,
   "id": "a46d33f5-ae60-4f38-ac72-122822187f0d",
   "metadata": {},
   "outputs": [
    {
     "name": "stdout",
     "output_type": "stream",
     "text": [
      "0\n",
      "2\n",
      "4\n",
      "6\n",
      "8\n"
     ]
    }
   ],
   "source": [
    "\"\"\" Q4. What is a generator function in python? Why yield keyword is used? Give an example of a generator\n",
    "function. \"\"\"\n",
    "\n",
    "# Answer\n",
    "\"\"\" In Python, a generator function is a special type of function that generates a sequence of values lazily, on-the-fly, as they are requested. \n",
    "Instead of returning a single value and exiting, a generator function yields a sequence of values one at a time, suspending its state between each value until the next value is requested.\n",
    "The yield keyword is used in generator functions to produce a value and suspend the function's execution state. \n",
    "When the next value is requested, the function resumes execution from where it left off and produces the next value.\n",
    "This process continues until the generator function has no more values to yield, at which point it raises a StopIteration exception to signal the end of the iteration. \"\"\"\n",
    "\n",
    "# Example :\n",
    "def even(n):\n",
    "    for i in range(n):\n",
    "        if i%2==0:\n",
    "            yield i\n",
    "iterator=even(10)\n",
    "for i in range(5):\n",
    "    print(next(iterator))"
   ]
  },
  {
   "cell_type": "code",
   "execution_count": 1,
   "id": "a591402e-5585-466b-9aff-a0c4e7fad602",
   "metadata": {},
   "outputs": [
    {
     "name": "stdout",
     "output_type": "stream",
     "text": [
      "2\n",
      "3\n",
      "5\n",
      "7\n",
      "11\n",
      "13\n",
      "17\n",
      "19\n",
      "23\n",
      "29\n",
      "31\n",
      "37\n",
      "41\n",
      "43\n",
      "47\n",
      "53\n",
      "59\n",
      "61\n",
      "67\n",
      "71\n"
     ]
    }
   ],
   "source": [
    "\"\"\" Q5. Create a generator function for prime numbers less than 1000. Use the next() method to print the\n",
    "first 20 prime numbers. \"\"\"\n",
    "\n",
    "def primes():\n",
    "    num = 2\n",
    "    while num < 1000:\n",
    "        # Check if the number is prime\n",
    "        for i in range(2, num):\n",
    "            if num % i == 0:\n",
    "                break\n",
    "        else:\n",
    "            # Yield the prime number\n",
    "            yield num\n",
    "        num += 1\n",
    "        \n",
    "my_iterator = primes()\n",
    "\n",
    "for i in range(20):\n",
    "    print(next(my_iterator))"
   ]
  },
  {
   "cell_type": "code",
   "execution_count": 5,
   "id": "706e7724-f0e4-4779-9b55-069da6457379",
   "metadata": {},
   "outputs": [
    {
     "name": "stdout",
     "output_type": "stream",
     "text": [
      "0\n",
      "1\n",
      "2\n",
      "4\n",
      "8\n",
      "16\n",
      "32\n",
      "64\n",
      "128\n",
      "256\n"
     ]
    }
   ],
   "source": [
    "\"\"\" Q6. Write a python program to print the first 10 Fibonacci numbers using a while loop.\"\"\"\n",
    "\n",
    "a,b=0,1\n",
    "i=1\n",
    "while i<=10:\n",
    "    print(a)\n",
    "    a=b\n",
    "    b=a+b\n",
    "    i+=1  "
   ]
  },
  {
   "cell_type": "code",
   "execution_count": 4,
   "id": "a2152294-9c19-4a33-8a8a-16b0bb80a51e",
   "metadata": {},
   "outputs": [
    {
     "name": "stdout",
     "output_type": "stream",
     "text": [
      "['p', 'w', 's', 'k', 'i', 'l', 'l', 's']\n"
     ]
    }
   ],
   "source": [
    "\"\"\" Q7. Write a List Comprehension to iterate through the given string: ‘pwskills’.\n",
    "Expected output: ['p', 'w', 's', 'k', 'i', 'l', 'l', 's'] \"\"\"\n",
    "\n",
    "string = 'pwskills'\n",
    "new_list = [char for char in string if char in 'pwskills']\n",
    "print(new_list)"
   ]
  },
  {
   "cell_type": "code",
   "execution_count": 2,
   "id": "a6352dcb-1b4b-4733-b33f-f6c51157186d",
   "metadata": {},
   "outputs": [
    {
     "name": "stdin",
     "output_type": "stream",
     "text": [
      "Enter a number:  1545\n"
     ]
    },
    {
     "name": "stdout",
     "output_type": "stream",
     "text": [
      "1545 is not a palindrome\n"
     ]
    }
   ],
   "source": [
    "\"\"\" Q8. Write a python program to check whether a given number is Palindrome or not using a while loop. \"\"\"\n",
    "\n",
    "num = int(input(\"Enter a number: \"))\n",
    "temp = num\n",
    "rev = 0\n",
    "\n",
    "while temp > 0:\n",
    "    digit = temp % 10\n",
    "    rev = rev * 10 + digit\n",
    "    temp = temp // 10\n",
    "\n",
    "if num == rev:\n",
    "    print(num, \"is a palindrome\")\n",
    "else:\n",
    "    print(num, \"is not a palindrome\")\n"
   ]
  },
  {
   "cell_type": "code",
   "execution_count": 3,
   "id": "8c952195-2610-4fcf-9486-0a964d966af6",
   "metadata": {},
   "outputs": [
    {
     "name": "stdout",
     "output_type": "stream",
     "text": [
      "[1, 3, 5, 7, 9, 11, 13, 15, 17, 19, 21, 23, 25, 27, 29, 31, 33, 35, 37, 39, 41, 43, 45, 47, 49, 51, 53, 55, 57, 59, 61, 63, 65, 67, 69, 71, 73, 75, 77, 79, 81, 83, 85, 87, 89, 91, 93, 95, 97, 99]\n"
     ]
    }
   ],
   "source": [
    "\"\"\" Q9. Write a code to print odd numbers from 1 to 100 using list comprehension \"\"\"\n",
    "\n",
    "odd_numbers = [num for num in range(1, 101) if num % 2 != 0]\n",
    "print(odd_numbers)"
   ]
  }
 ],
 "metadata": {
  "kernelspec": {
   "display_name": "Python 3 (ipykernel)",
   "language": "python",
   "name": "python3"
  },
  "language_info": {
   "codemirror_mode": {
    "name": "ipython",
    "version": 3
   },
   "file_extension": ".py",
   "mimetype": "text/x-python",
   "name": "python",
   "nbconvert_exporter": "python",
   "pygments_lexer": "ipython3",
   "version": "3.10.8"
  }
 },
 "nbformat": 4,
 "nbformat_minor": 5
}
